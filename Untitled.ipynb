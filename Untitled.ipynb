{
 "cells": [
  {
   "cell_type": "markdown",
   "id": "a21cd9dd",
   "metadata": {},
   "source": [
    "# Table of Contents"
   ]
  },
  {
   "cell_type": "markdown",
   "id": "8382a391",
   "metadata": {},
   "source": [
    "### <a href='#intro'>-> Introduction</a>\n",
    "### <a href='#prelim'>-> Preliminary Wrangling</a>\n",
    "### <a href='#explore'>-> Univariate, Bivariate, and Multivariate Data Exploration</a>\n",
    "### <a href='#conclude'>-> Conclusions</a>"
   ]
  },
  {
   "cell_type": "markdown",
   "id": "667c3f69",
   "metadata": {},
   "source": [
    "<a id='intro'></a>\n",
    "## Introduction"
   ]
  },
  {
   "cell_type": "markdown",
   "id": "0fced208",
   "metadata": {},
   "source": [
    "- The data set contains 113,937 loans with 81 variables on each\n",
    "loan, including loan amount, borrower rate (or interest rate),\n",
    "current loan status, borrower income, and many others.\n",
    "- The data dictionary <strong>(df_desc)</strong> explains the variables in the data set."
   ]
  },
  {
   "cell_type": "markdown",
   "id": "3fec11d5",
   "metadata": {},
   "source": [
    "<a id='prelim'></a>\n",
    "## Preliminary Wrangling"
   ]
  },
  {
   "cell_type": "markdown",
   "id": "c45f5dd3",
   "metadata": {},
   "source": [
    "The Wrangling process will be carried out in the fashion\n",
    "- Gather \n",
    "- Assess\n",
    "    - Visual\n",
    "    - Programmatic\n",
    "- Clean\n",
    "    - Define\n",
    "    - Code\n",
    "    - Test"
   ]
  },
  {
   "cell_type": "markdown",
   "id": "7f7478dd",
   "metadata": {},
   "source": [
    "##### Import modules"
   ]
  },
  {
   "cell_type": "code",
   "execution_count": 57,
   "id": "4be41697",
   "metadata": {},
   "outputs": [],
   "source": [
    "import matplotlib.pyplot as plt\n",
    "import seaborn as sns\n",
    "import pandas as pd\n",
    "import numpy as np\n",
    "import sys\n",
    "import os"
   ]
  },
  {
   "cell_type": "markdown",
   "id": "42468a09",
   "metadata": {},
   "source": [
    "##### Gather"
   ]
  },
  {
   "cell_type": "code",
   "execution_count": 58,
   "id": "7ef2fbe2",
   "metadata": {},
   "outputs": [],
   "source": [
    "df = pd.read_csv('prosperLoanData.csv')\n",
    "df_desc = pd.read_csv('Prosper Loan Data - Variable Definitions - Sheet1.csv')"
   ]
  },
  {
   "cell_type": "markdown",
   "id": "04722bd1",
   "metadata": {},
   "source": [
    "##### Assess"
   ]
  },
  {
   "cell_type": "code",
   "execution_count": 59,
   "id": "e401e0c9",
   "metadata": {
    "scrolled": true
   },
   "outputs": [
    {
     "data": {
      "text/html": [
       "<div>\n",
       "<style scoped>\n",
       "    .dataframe tbody tr th:only-of-type {\n",
       "        vertical-align: middle;\n",
       "    }\n",
       "\n",
       "    .dataframe tbody tr th {\n",
       "        vertical-align: top;\n",
       "    }\n",
       "\n",
       "    .dataframe thead th {\n",
       "        text-align: right;\n",
       "    }\n",
       "</style>\n",
       "<table border=\"1\" class=\"dataframe\">\n",
       "  <thead>\n",
       "    <tr style=\"text-align: right;\">\n",
       "      <th></th>\n",
       "      <th>ListingKey</th>\n",
       "      <th>ListingNumber</th>\n",
       "      <th>ListingCreationDate</th>\n",
       "      <th>CreditGrade</th>\n",
       "      <th>Term</th>\n",
       "      <th>LoanStatus</th>\n",
       "      <th>ClosedDate</th>\n",
       "      <th>BorrowerAPR</th>\n",
       "      <th>BorrowerRate</th>\n",
       "      <th>LenderYield</th>\n",
       "      <th>...</th>\n",
       "      <th>LP_ServiceFees</th>\n",
       "      <th>LP_CollectionFees</th>\n",
       "      <th>LP_GrossPrincipalLoss</th>\n",
       "      <th>LP_NetPrincipalLoss</th>\n",
       "      <th>LP_NonPrincipalRecoverypayments</th>\n",
       "      <th>PercentFunded</th>\n",
       "      <th>Recommendations</th>\n",
       "      <th>InvestmentFromFriendsCount</th>\n",
       "      <th>InvestmentFromFriendsAmount</th>\n",
       "      <th>Investors</th>\n",
       "    </tr>\n",
       "  </thead>\n",
       "  <tbody>\n",
       "    <tr>\n",
       "      <th>113932</th>\n",
       "      <td>E6D9357655724827169606C</td>\n",
       "      <td>753087</td>\n",
       "      <td>2013-04-14 05:55:02.663000000</td>\n",
       "      <td>NaN</td>\n",
       "      <td>36</td>\n",
       "      <td>Current</td>\n",
       "      <td>NaN</td>\n",
       "      <td>0.22354</td>\n",
       "      <td>0.1864</td>\n",
       "      <td>0.1764</td>\n",
       "      <td>...</td>\n",
       "      <td>-75.58</td>\n",
       "      <td>0.0</td>\n",
       "      <td>0.0</td>\n",
       "      <td>0.0</td>\n",
       "      <td>0.0</td>\n",
       "      <td>1.0</td>\n",
       "      <td>0</td>\n",
       "      <td>0</td>\n",
       "      <td>0.0</td>\n",
       "      <td>1</td>\n",
       "    </tr>\n",
       "    <tr>\n",
       "      <th>113933</th>\n",
       "      <td>E6DB353036033497292EE43</td>\n",
       "      <td>537216</td>\n",
       "      <td>2011-11-03 20:42:55.333000000</td>\n",
       "      <td>NaN</td>\n",
       "      <td>36</td>\n",
       "      <td>FinalPaymentInProgress</td>\n",
       "      <td>NaN</td>\n",
       "      <td>0.13220</td>\n",
       "      <td>0.1110</td>\n",
       "      <td>0.1010</td>\n",
       "      <td>...</td>\n",
       "      <td>-30.05</td>\n",
       "      <td>0.0</td>\n",
       "      <td>0.0</td>\n",
       "      <td>0.0</td>\n",
       "      <td>0.0</td>\n",
       "      <td>1.0</td>\n",
       "      <td>0</td>\n",
       "      <td>0</td>\n",
       "      <td>0.0</td>\n",
       "      <td>22</td>\n",
       "    </tr>\n",
       "    <tr>\n",
       "      <th>113934</th>\n",
       "      <td>E6E13596170052029692BB1</td>\n",
       "      <td>1069178</td>\n",
       "      <td>2013-12-13 05:49:12.703000000</td>\n",
       "      <td>NaN</td>\n",
       "      <td>60</td>\n",
       "      <td>Current</td>\n",
       "      <td>NaN</td>\n",
       "      <td>0.23984</td>\n",
       "      <td>0.2150</td>\n",
       "      <td>0.2050</td>\n",
       "      <td>...</td>\n",
       "      <td>-16.91</td>\n",
       "      <td>0.0</td>\n",
       "      <td>0.0</td>\n",
       "      <td>0.0</td>\n",
       "      <td>0.0</td>\n",
       "      <td>1.0</td>\n",
       "      <td>0</td>\n",
       "      <td>0</td>\n",
       "      <td>0.0</td>\n",
       "      <td>119</td>\n",
       "    </tr>\n",
       "    <tr>\n",
       "      <th>113935</th>\n",
       "      <td>E6EB3531504622671970D9E</td>\n",
       "      <td>539056</td>\n",
       "      <td>2011-11-14 13:18:26.597000000</td>\n",
       "      <td>NaN</td>\n",
       "      <td>60</td>\n",
       "      <td>Completed</td>\n",
       "      <td>2013-08-13 00:00:00</td>\n",
       "      <td>0.28408</td>\n",
       "      <td>0.2605</td>\n",
       "      <td>0.2505</td>\n",
       "      <td>...</td>\n",
       "      <td>-235.05</td>\n",
       "      <td>0.0</td>\n",
       "      <td>0.0</td>\n",
       "      <td>0.0</td>\n",
       "      <td>0.0</td>\n",
       "      <td>1.0</td>\n",
       "      <td>0</td>\n",
       "      <td>0</td>\n",
       "      <td>0.0</td>\n",
       "      <td>274</td>\n",
       "    </tr>\n",
       "    <tr>\n",
       "      <th>113936</th>\n",
       "      <td>E6ED3600409833199F711B7</td>\n",
       "      <td>1140093</td>\n",
       "      <td>2014-01-15 09:27:37.657000000</td>\n",
       "      <td>NaN</td>\n",
       "      <td>36</td>\n",
       "      <td>Current</td>\n",
       "      <td>NaN</td>\n",
       "      <td>0.13189</td>\n",
       "      <td>0.1039</td>\n",
       "      <td>0.0939</td>\n",
       "      <td>...</td>\n",
       "      <td>-1.70</td>\n",
       "      <td>0.0</td>\n",
       "      <td>0.0</td>\n",
       "      <td>0.0</td>\n",
       "      <td>0.0</td>\n",
       "      <td>1.0</td>\n",
       "      <td>0</td>\n",
       "      <td>0</td>\n",
       "      <td>0.0</td>\n",
       "      <td>1</td>\n",
       "    </tr>\n",
       "  </tbody>\n",
       "</table>\n",
       "<p>5 rows × 81 columns</p>\n",
       "</div>"
      ],
      "text/plain": [
       "                     ListingKey  ListingNumber            ListingCreationDate  \\\n",
       "113932  E6D9357655724827169606C         753087  2013-04-14 05:55:02.663000000   \n",
       "113933  E6DB353036033497292EE43         537216  2011-11-03 20:42:55.333000000   \n",
       "113934  E6E13596170052029692BB1        1069178  2013-12-13 05:49:12.703000000   \n",
       "113935  E6EB3531504622671970D9E         539056  2011-11-14 13:18:26.597000000   \n",
       "113936  E6ED3600409833199F711B7        1140093  2014-01-15 09:27:37.657000000   \n",
       "\n",
       "       CreditGrade  Term              LoanStatus           ClosedDate  \\\n",
       "113932         NaN    36                 Current                  NaN   \n",
       "113933         NaN    36  FinalPaymentInProgress                  NaN   \n",
       "113934         NaN    60                 Current                  NaN   \n",
       "113935         NaN    60               Completed  2013-08-13 00:00:00   \n",
       "113936         NaN    36                 Current                  NaN   \n",
       "\n",
       "        BorrowerAPR  BorrowerRate  LenderYield  ...  LP_ServiceFees  \\\n",
       "113932      0.22354        0.1864       0.1764  ...          -75.58   \n",
       "113933      0.13220        0.1110       0.1010  ...          -30.05   \n",
       "113934      0.23984        0.2150       0.2050  ...          -16.91   \n",
       "113935      0.28408        0.2605       0.2505  ...         -235.05   \n",
       "113936      0.13189        0.1039       0.0939  ...           -1.70   \n",
       "\n",
       "        LP_CollectionFees  LP_GrossPrincipalLoss  LP_NetPrincipalLoss  \\\n",
       "113932                0.0                    0.0                  0.0   \n",
       "113933                0.0                    0.0                  0.0   \n",
       "113934                0.0                    0.0                  0.0   \n",
       "113935                0.0                    0.0                  0.0   \n",
       "113936                0.0                    0.0                  0.0   \n",
       "\n",
       "       LP_NonPrincipalRecoverypayments  PercentFunded  Recommendations  \\\n",
       "113932                             0.0            1.0                0   \n",
       "113933                             0.0            1.0                0   \n",
       "113934                             0.0            1.0                0   \n",
       "113935                             0.0            1.0                0   \n",
       "113936                             0.0            1.0                0   \n",
       "\n",
       "       InvestmentFromFriendsCount InvestmentFromFriendsAmount Investors  \n",
       "113932                          0                         0.0         1  \n",
       "113933                          0                         0.0        22  \n",
       "113934                          0                         0.0       119  \n",
       "113935                          0                         0.0       274  \n",
       "113936                          0                         0.0         1  \n",
       "\n",
       "[5 rows x 81 columns]"
      ]
     },
     "execution_count": 59,
     "metadata": {},
     "output_type": "execute_result"
    }
   ],
   "source": [
    "df.tail(5)"
   ]
  },
  {
   "cell_type": "code",
   "execution_count": 60,
   "id": "239966d2",
   "metadata": {
    "scrolled": false
   },
   "outputs": [
    {
     "name": "stdout",
     "output_type": "stream",
     "text": [
      "<class 'pandas.core.frame.DataFrame'>\n",
      "RangeIndex: 113937 entries, 0 to 113936\n",
      "Data columns (total 81 columns):\n",
      " #   Column                               Non-Null Count   Dtype  \n",
      "---  ------                               --------------   -----  \n",
      " 0   ListingKey                           113937 non-null  object \n",
      " 1   ListingNumber                        113937 non-null  int64  \n",
      " 2   ListingCreationDate                  113937 non-null  object \n",
      " 3   CreditGrade                          28953 non-null   object \n",
      " 4   Term                                 113937 non-null  int64  \n",
      " 5   LoanStatus                           113937 non-null  object \n",
      " 6   ClosedDate                           55089 non-null   object \n",
      " 7   BorrowerAPR                          113912 non-null  float64\n",
      " 8   BorrowerRate                         113937 non-null  float64\n",
      " 9   LenderYield                          113937 non-null  float64\n",
      " 10  EstimatedEffectiveYield              84853 non-null   float64\n",
      " 11  EstimatedLoss                        84853 non-null   float64\n",
      " 12  EstimatedReturn                      84853 non-null   float64\n",
      " 13  ProsperRating (numeric)              84853 non-null   float64\n",
      " 14  ProsperRating (Alpha)                84853 non-null   object \n",
      " 15  ProsperScore                         84853 non-null   float64\n",
      " 16  ListingCategory (numeric)            113937 non-null  int64  \n",
      " 17  BorrowerState                        108422 non-null  object \n",
      " 18  Occupation                           110349 non-null  object \n",
      " 19  EmploymentStatus                     111682 non-null  object \n",
      " 20  EmploymentStatusDuration             106312 non-null  float64\n",
      " 21  IsBorrowerHomeowner                  113937 non-null  bool   \n",
      " 22  CurrentlyInGroup                     113937 non-null  bool   \n",
      " 23  GroupKey                             13341 non-null   object \n",
      " 24  DateCreditPulled                     113937 non-null  object \n",
      " 25  CreditScoreRangeLower                113346 non-null  float64\n",
      " 26  CreditScoreRangeUpper                113346 non-null  float64\n",
      " 27  FirstRecordedCreditLine              113240 non-null  object \n",
      " 28  CurrentCreditLines                   106333 non-null  float64\n",
      " 29  OpenCreditLines                      106333 non-null  float64\n",
      " 30  TotalCreditLinespast7years           113240 non-null  float64\n",
      " 31  OpenRevolvingAccounts                113937 non-null  int64  \n",
      " 32  OpenRevolvingMonthlyPayment          113937 non-null  float64\n",
      " 33  InquiriesLast6Months                 113240 non-null  float64\n",
      " 34  TotalInquiries                       112778 non-null  float64\n",
      " 35  CurrentDelinquencies                 113240 non-null  float64\n",
      " 36  AmountDelinquent                     106315 non-null  float64\n",
      " 37  DelinquenciesLast7Years              112947 non-null  float64\n",
      " 38  PublicRecordsLast10Years             113240 non-null  float64\n",
      " 39  PublicRecordsLast12Months            106333 non-null  float64\n",
      " 40  RevolvingCreditBalance               106333 non-null  float64\n",
      " 41  BankcardUtilization                  106333 non-null  float64\n",
      " 42  AvailableBankcardCredit              106393 non-null  float64\n",
      " 43  TotalTrades                          106393 non-null  float64\n",
      " 44  TradesNeverDelinquent (percentage)   106393 non-null  float64\n",
      " 45  TradesOpenedLast6Months              106393 non-null  float64\n",
      " 46  DebtToIncomeRatio                    105383 non-null  float64\n",
      " 47  IncomeRange                          113937 non-null  object \n",
      " 48  IncomeVerifiable                     113937 non-null  bool   \n",
      " 49  StatedMonthlyIncome                  113937 non-null  float64\n",
      " 50  LoanKey                              113937 non-null  object \n",
      " 51  TotalProsperLoans                    22085 non-null   float64\n",
      " 52  TotalProsperPaymentsBilled           22085 non-null   float64\n",
      " 53  OnTimeProsperPayments                22085 non-null   float64\n",
      " 54  ProsperPaymentsLessThanOneMonthLate  22085 non-null   float64\n",
      " 55  ProsperPaymentsOneMonthPlusLate      22085 non-null   float64\n",
      " 56  ProsperPrincipalBorrowed             22085 non-null   float64\n",
      " 57  ProsperPrincipalOutstanding          22085 non-null   float64\n",
      " 58  ScorexChangeAtTimeOfListing          18928 non-null   float64\n",
      " 59  LoanCurrentDaysDelinquent            113937 non-null  int64  \n",
      " 60  LoanFirstDefaultedCycleNumber        16952 non-null   float64\n",
      " 61  LoanMonthsSinceOrigination           113937 non-null  int64  \n",
      " 62  LoanNumber                           113937 non-null  int64  \n",
      " 63  LoanOriginalAmount                   113937 non-null  int64  \n",
      " 64  LoanOriginationDate                  113937 non-null  object \n",
      " 65  LoanOriginationQuarter               113937 non-null  object \n",
      " 66  MemberKey                            113937 non-null  object \n",
      " 67  MonthlyLoanPayment                   113937 non-null  float64\n",
      " 68  LP_CustomerPayments                  113937 non-null  float64\n",
      " 69  LP_CustomerPrincipalPayments         113937 non-null  float64\n",
      " 70  LP_InterestandFees                   113937 non-null  float64\n",
      " 71  LP_ServiceFees                       113937 non-null  float64\n",
      " 72  LP_CollectionFees                    113937 non-null  float64\n",
      " 73  LP_GrossPrincipalLoss                113937 non-null  float64\n",
      " 74  LP_NetPrincipalLoss                  113937 non-null  float64\n",
      " 75  LP_NonPrincipalRecoverypayments      113937 non-null  float64\n",
      " 76  PercentFunded                        113937 non-null  float64\n",
      " 77  Recommendations                      113937 non-null  int64  \n",
      " 78  InvestmentFromFriendsCount           113937 non-null  int64  \n",
      " 79  InvestmentFromFriendsAmount          113937 non-null  float64\n",
      " 80  Investors                            113937 non-null  int64  \n",
      "dtypes: bool(3), float64(50), int64(11), object(17)\n",
      "memory usage: 68.1+ MB\n"
     ]
    }
   ],
   "source": [
    "df.info()"
   ]
  },
  {
   "cell_type": "code",
   "execution_count": 61,
   "id": "906023a1",
   "metadata": {},
   "outputs": [
    {
     "data": {
      "text/html": [
       "<div>\n",
       "<style scoped>\n",
       "    .dataframe tbody tr th:only-of-type {\n",
       "        vertical-align: middle;\n",
       "    }\n",
       "\n",
       "    .dataframe tbody tr th {\n",
       "        vertical-align: top;\n",
       "    }\n",
       "\n",
       "    .dataframe thead th {\n",
       "        text-align: right;\n",
       "    }\n",
       "</style>\n",
       "<table border=\"1\" class=\"dataframe\">\n",
       "  <thead>\n",
       "    <tr style=\"text-align: right;\">\n",
       "      <th></th>\n",
       "      <th>ListingNumber</th>\n",
       "      <th>Term</th>\n",
       "      <th>BorrowerAPR</th>\n",
       "      <th>BorrowerRate</th>\n",
       "      <th>LenderYield</th>\n",
       "      <th>EstimatedEffectiveYield</th>\n",
       "      <th>EstimatedLoss</th>\n",
       "      <th>EstimatedReturn</th>\n",
       "      <th>ProsperRating (numeric)</th>\n",
       "      <th>ProsperScore</th>\n",
       "      <th>...</th>\n",
       "      <th>LP_ServiceFees</th>\n",
       "      <th>LP_CollectionFees</th>\n",
       "      <th>LP_GrossPrincipalLoss</th>\n",
       "      <th>LP_NetPrincipalLoss</th>\n",
       "      <th>LP_NonPrincipalRecoverypayments</th>\n",
       "      <th>PercentFunded</th>\n",
       "      <th>Recommendations</th>\n",
       "      <th>InvestmentFromFriendsCount</th>\n",
       "      <th>InvestmentFromFriendsAmount</th>\n",
       "      <th>Investors</th>\n",
       "    </tr>\n",
       "  </thead>\n",
       "  <tbody>\n",
       "    <tr>\n",
       "      <th>count</th>\n",
       "      <td>1.139370e+05</td>\n",
       "      <td>113937.000000</td>\n",
       "      <td>113912.000000</td>\n",
       "      <td>113937.000000</td>\n",
       "      <td>113937.000000</td>\n",
       "      <td>84853.000000</td>\n",
       "      <td>84853.000000</td>\n",
       "      <td>84853.000000</td>\n",
       "      <td>84853.000000</td>\n",
       "      <td>84853.000000</td>\n",
       "      <td>...</td>\n",
       "      <td>113937.000000</td>\n",
       "      <td>113937.000000</td>\n",
       "      <td>113937.000000</td>\n",
       "      <td>113937.000000</td>\n",
       "      <td>113937.000000</td>\n",
       "      <td>113937.000000</td>\n",
       "      <td>113937.000000</td>\n",
       "      <td>113937.000000</td>\n",
       "      <td>113937.000000</td>\n",
       "      <td>113937.000000</td>\n",
       "    </tr>\n",
       "    <tr>\n",
       "      <th>mean</th>\n",
       "      <td>6.278857e+05</td>\n",
       "      <td>40.830248</td>\n",
       "      <td>0.218828</td>\n",
       "      <td>0.192764</td>\n",
       "      <td>0.182701</td>\n",
       "      <td>0.168661</td>\n",
       "      <td>0.080306</td>\n",
       "      <td>0.096068</td>\n",
       "      <td>4.072243</td>\n",
       "      <td>5.950067</td>\n",
       "      <td>...</td>\n",
       "      <td>-54.725641</td>\n",
       "      <td>-14.242698</td>\n",
       "      <td>700.446342</td>\n",
       "      <td>681.420499</td>\n",
       "      <td>25.142686</td>\n",
       "      <td>0.998584</td>\n",
       "      <td>0.048027</td>\n",
       "      <td>0.023460</td>\n",
       "      <td>16.550751</td>\n",
       "      <td>80.475228</td>\n",
       "    </tr>\n",
       "    <tr>\n",
       "      <th>std</th>\n",
       "      <td>3.280762e+05</td>\n",
       "      <td>10.436212</td>\n",
       "      <td>0.080364</td>\n",
       "      <td>0.074818</td>\n",
       "      <td>0.074516</td>\n",
       "      <td>0.068467</td>\n",
       "      <td>0.046764</td>\n",
       "      <td>0.030403</td>\n",
       "      <td>1.673227</td>\n",
       "      <td>2.376501</td>\n",
       "      <td>...</td>\n",
       "      <td>60.675425</td>\n",
       "      <td>109.232758</td>\n",
       "      <td>2388.513831</td>\n",
       "      <td>2357.167068</td>\n",
       "      <td>275.657937</td>\n",
       "      <td>0.017919</td>\n",
       "      <td>0.332353</td>\n",
       "      <td>0.232412</td>\n",
       "      <td>294.545422</td>\n",
       "      <td>103.239020</td>\n",
       "    </tr>\n",
       "    <tr>\n",
       "      <th>min</th>\n",
       "      <td>4.000000e+00</td>\n",
       "      <td>12.000000</td>\n",
       "      <td>0.006530</td>\n",
       "      <td>0.000000</td>\n",
       "      <td>-0.010000</td>\n",
       "      <td>-0.182700</td>\n",
       "      <td>0.004900</td>\n",
       "      <td>-0.182700</td>\n",
       "      <td>1.000000</td>\n",
       "      <td>1.000000</td>\n",
       "      <td>...</td>\n",
       "      <td>-664.870000</td>\n",
       "      <td>-9274.750000</td>\n",
       "      <td>-94.200000</td>\n",
       "      <td>-954.550000</td>\n",
       "      <td>0.000000</td>\n",
       "      <td>0.700000</td>\n",
       "      <td>0.000000</td>\n",
       "      <td>0.000000</td>\n",
       "      <td>0.000000</td>\n",
       "      <td>1.000000</td>\n",
       "    </tr>\n",
       "    <tr>\n",
       "      <th>25%</th>\n",
       "      <td>4.009190e+05</td>\n",
       "      <td>36.000000</td>\n",
       "      <td>0.156290</td>\n",
       "      <td>0.134000</td>\n",
       "      <td>0.124200</td>\n",
       "      <td>0.115670</td>\n",
       "      <td>0.042400</td>\n",
       "      <td>0.074080</td>\n",
       "      <td>3.000000</td>\n",
       "      <td>4.000000</td>\n",
       "      <td>...</td>\n",
       "      <td>-73.180000</td>\n",
       "      <td>0.000000</td>\n",
       "      <td>0.000000</td>\n",
       "      <td>0.000000</td>\n",
       "      <td>0.000000</td>\n",
       "      <td>1.000000</td>\n",
       "      <td>0.000000</td>\n",
       "      <td>0.000000</td>\n",
       "      <td>0.000000</td>\n",
       "      <td>2.000000</td>\n",
       "    </tr>\n",
       "    <tr>\n",
       "      <th>50%</th>\n",
       "      <td>6.005540e+05</td>\n",
       "      <td>36.000000</td>\n",
       "      <td>0.209760</td>\n",
       "      <td>0.184000</td>\n",
       "      <td>0.173000</td>\n",
       "      <td>0.161500</td>\n",
       "      <td>0.072400</td>\n",
       "      <td>0.091700</td>\n",
       "      <td>4.000000</td>\n",
       "      <td>6.000000</td>\n",
       "      <td>...</td>\n",
       "      <td>-34.440000</td>\n",
       "      <td>0.000000</td>\n",
       "      <td>0.000000</td>\n",
       "      <td>0.000000</td>\n",
       "      <td>0.000000</td>\n",
       "      <td>1.000000</td>\n",
       "      <td>0.000000</td>\n",
       "      <td>0.000000</td>\n",
       "      <td>0.000000</td>\n",
       "      <td>44.000000</td>\n",
       "    </tr>\n",
       "    <tr>\n",
       "      <th>75%</th>\n",
       "      <td>8.926340e+05</td>\n",
       "      <td>36.000000</td>\n",
       "      <td>0.283810</td>\n",
       "      <td>0.250000</td>\n",
       "      <td>0.240000</td>\n",
       "      <td>0.224300</td>\n",
       "      <td>0.112000</td>\n",
       "      <td>0.116600</td>\n",
       "      <td>5.000000</td>\n",
       "      <td>8.000000</td>\n",
       "      <td>...</td>\n",
       "      <td>-13.920000</td>\n",
       "      <td>0.000000</td>\n",
       "      <td>0.000000</td>\n",
       "      <td>0.000000</td>\n",
       "      <td>0.000000</td>\n",
       "      <td>1.000000</td>\n",
       "      <td>0.000000</td>\n",
       "      <td>0.000000</td>\n",
       "      <td>0.000000</td>\n",
       "      <td>115.000000</td>\n",
       "    </tr>\n",
       "    <tr>\n",
       "      <th>max</th>\n",
       "      <td>1.255725e+06</td>\n",
       "      <td>60.000000</td>\n",
       "      <td>0.512290</td>\n",
       "      <td>0.497500</td>\n",
       "      <td>0.492500</td>\n",
       "      <td>0.319900</td>\n",
       "      <td>0.366000</td>\n",
       "      <td>0.283700</td>\n",
       "      <td>7.000000</td>\n",
       "      <td>11.000000</td>\n",
       "      <td>...</td>\n",
       "      <td>32.060000</td>\n",
       "      <td>0.000000</td>\n",
       "      <td>25000.000000</td>\n",
       "      <td>25000.000000</td>\n",
       "      <td>21117.900000</td>\n",
       "      <td>1.012500</td>\n",
       "      <td>39.000000</td>\n",
       "      <td>33.000000</td>\n",
       "      <td>25000.000000</td>\n",
       "      <td>1189.000000</td>\n",
       "    </tr>\n",
       "  </tbody>\n",
       "</table>\n",
       "<p>8 rows × 61 columns</p>\n",
       "</div>"
      ],
      "text/plain": [
       "       ListingNumber           Term    BorrowerAPR   BorrowerRate  \\\n",
       "count   1.139370e+05  113937.000000  113912.000000  113937.000000   \n",
       "mean    6.278857e+05      40.830248       0.218828       0.192764   \n",
       "std     3.280762e+05      10.436212       0.080364       0.074818   \n",
       "min     4.000000e+00      12.000000       0.006530       0.000000   \n",
       "25%     4.009190e+05      36.000000       0.156290       0.134000   \n",
       "50%     6.005540e+05      36.000000       0.209760       0.184000   \n",
       "75%     8.926340e+05      36.000000       0.283810       0.250000   \n",
       "max     1.255725e+06      60.000000       0.512290       0.497500   \n",
       "\n",
       "         LenderYield  EstimatedEffectiveYield  EstimatedLoss  EstimatedReturn  \\\n",
       "count  113937.000000             84853.000000   84853.000000     84853.000000   \n",
       "mean        0.182701                 0.168661       0.080306         0.096068   \n",
       "std         0.074516                 0.068467       0.046764         0.030403   \n",
       "min        -0.010000                -0.182700       0.004900        -0.182700   \n",
       "25%         0.124200                 0.115670       0.042400         0.074080   \n",
       "50%         0.173000                 0.161500       0.072400         0.091700   \n",
       "75%         0.240000                 0.224300       0.112000         0.116600   \n",
       "max         0.492500                 0.319900       0.366000         0.283700   \n",
       "\n",
       "       ProsperRating (numeric)  ProsperScore  ...  LP_ServiceFees  \\\n",
       "count             84853.000000  84853.000000  ...   113937.000000   \n",
       "mean                  4.072243      5.950067  ...      -54.725641   \n",
       "std                   1.673227      2.376501  ...       60.675425   \n",
       "min                   1.000000      1.000000  ...     -664.870000   \n",
       "25%                   3.000000      4.000000  ...      -73.180000   \n",
       "50%                   4.000000      6.000000  ...      -34.440000   \n",
       "75%                   5.000000      8.000000  ...      -13.920000   \n",
       "max                   7.000000     11.000000  ...       32.060000   \n",
       "\n",
       "       LP_CollectionFees  LP_GrossPrincipalLoss  LP_NetPrincipalLoss  \\\n",
       "count      113937.000000          113937.000000        113937.000000   \n",
       "mean          -14.242698             700.446342           681.420499   \n",
       "std           109.232758            2388.513831          2357.167068   \n",
       "min         -9274.750000             -94.200000          -954.550000   \n",
       "25%             0.000000               0.000000             0.000000   \n",
       "50%             0.000000               0.000000             0.000000   \n",
       "75%             0.000000               0.000000             0.000000   \n",
       "max             0.000000           25000.000000         25000.000000   \n",
       "\n",
       "       LP_NonPrincipalRecoverypayments  PercentFunded  Recommendations  \\\n",
       "count                    113937.000000  113937.000000    113937.000000   \n",
       "mean                         25.142686       0.998584         0.048027   \n",
       "std                         275.657937       0.017919         0.332353   \n",
       "min                           0.000000       0.700000         0.000000   \n",
       "25%                           0.000000       1.000000         0.000000   \n",
       "50%                           0.000000       1.000000         0.000000   \n",
       "75%                           0.000000       1.000000         0.000000   \n",
       "max                       21117.900000       1.012500        39.000000   \n",
       "\n",
       "       InvestmentFromFriendsCount  InvestmentFromFriendsAmount      Investors  \n",
       "count               113937.000000                113937.000000  113937.000000  \n",
       "mean                     0.023460                    16.550751      80.475228  \n",
       "std                      0.232412                   294.545422     103.239020  \n",
       "min                      0.000000                     0.000000       1.000000  \n",
       "25%                      0.000000                     0.000000       2.000000  \n",
       "50%                      0.000000                     0.000000      44.000000  \n",
       "75%                      0.000000                     0.000000     115.000000  \n",
       "max                     33.000000                 25000.000000    1189.000000  \n",
       "\n",
       "[8 rows x 61 columns]"
      ]
     },
     "execution_count": 61,
     "metadata": {},
     "output_type": "execute_result"
    }
   ],
   "source": [
    "df.describe()"
   ]
  },
  {
   "cell_type": "markdown",
   "id": "3579fd17",
   "metadata": {},
   "source": [
    "### Clean"
   ]
  },
  {
   "cell_type": "markdown",
   "id": "7bc53292",
   "metadata": {},
   "source": [
    "#### Issues to be fixed\n",
    "##### Tidy Issues\n",
    "1. Create a new dataframe from columns of Interest\n",
    "2. Create a new feature `CreditScoreRange` from `CreditScoreRangeUpper` and `CreditScoreRangeLower`\n",
    "\n",
    "##### Quality Issues"
   ]
  },
  {
   "cell_type": "markdown",
   "id": "84f9b183",
   "metadata": {},
   "source": []
  },
  {
   "cell_type": "markdown",
   "id": "d140c2ea",
   "metadata": {},
   "source": [
    "### Issue 1\n",
    "\n",
    "\n",
    "#### Define\n",
    "- Create a new data frame ```df_new``` from the columns of Interest\n",
    "<br>\n",
    "\n",
    "- <strong>columns of interest</strong>\n",
    "    - CreditGrade\n",
    "    - Term\n",
    "    - LoanStatus\n",
    "    - ClosedDate\n",
    "    - BorrowerAPR\n",
    "    - LenderYield\n",
    "    - ListingCategory (numeric)\n",
    "    - BorrowerState\n",
    "    - Occupation\n",
    "    - EmploymentStatus\n",
    "    - EmployementStatusDuration\n",
    "    - IsBorrowerHomeowner\n",
    "    - CreditScoreRange = `f\"${CreditScoreRangeLower} - ${CreditScoreRangeUpper}\"`\n",
    "    - CurrentDelinquencies\n",
    "    - AmountDelinquent\n",
    "    - DelinquuenciesLast7Years\n",
    "    - RevolvingCreditBalance\n",
    "    - BankcardUtilization\n",
    "    - AvalibleBankcardCredit\n",
    "    - DebtToIncomeRatio\n",
    "    - IncomeRange\n",
    "    - IncomeVerifiable\n",
    "    - StatedMonthlyIncome\n",
    "    - LoanOriginalAmount\n",
    "    - LoanOriginationDate\n",
    "    - LoanOriginationQuarter\n",
    "    - MonthlyLoanPayment\n",
    "    - LP_ServiceFees\n",
    "\n",
    "#### Code"
   ]
  },
  {
   "cell_type": "code",
   "execution_count": 62,
   "id": "c73aa998",
   "metadata": {},
   "outputs": [],
   "source": [
    "columnsOfInterest = ['CreditGrade', 'Term', 'LoanStatus', 'ClosedDate', 'BorrowerAPR', 'BorrowerRate', 'LenderYield', 'ListingCategory (numeric)', 'BorrowerState', 'Occupation', 'EmploymentStatus', 'EmploymentStatusDuration', 'IsBorrowerHomeowner', 'CreditScoreRangeLower', 'CreditScoreRangeUpper', 'CurrentDelinquencies', 'AmountDelinquent', 'DelinquenciesLast7Years', 'RevolvingCreditBalance', 'BankcardUtilization', 'AvailableBankcardCredit', 'DebtToIncomeRatio', 'IncomeRange', 'IncomeVerifiable', 'StatedMonthlyIncome', 'LoanOriginalAmount', 'LoanOriginationDate', 'LoanOriginationQuarter', 'MonthlyLoanPayment', 'LP_ServiceFees']\n",
    "df_new = df[columnsOfInterest].copy()"
   ]
  },
  {
   "cell_type": "markdown",
   "id": "1f12c3ab",
   "metadata": {},
   "source": [
    "##### Test"
   ]
  },
  {
   "cell_type": "code",
   "execution_count": 63,
   "id": "eb5c7c1c",
   "metadata": {},
   "outputs": [
    {
     "data": {
      "text/html": [
       "<div>\n",
       "<style scoped>\n",
       "    .dataframe tbody tr th:only-of-type {\n",
       "        vertical-align: middle;\n",
       "    }\n",
       "\n",
       "    .dataframe tbody tr th {\n",
       "        vertical-align: top;\n",
       "    }\n",
       "\n",
       "    .dataframe thead th {\n",
       "        text-align: right;\n",
       "    }\n",
       "</style>\n",
       "<table border=\"1\" class=\"dataframe\">\n",
       "  <thead>\n",
       "    <tr style=\"text-align: right;\">\n",
       "      <th></th>\n",
       "      <th>CreditGrade</th>\n",
       "      <th>Term</th>\n",
       "      <th>LoanStatus</th>\n",
       "      <th>ClosedDate</th>\n",
       "      <th>BorrowerAPR</th>\n",
       "      <th>BorrowerRate</th>\n",
       "      <th>LenderYield</th>\n",
       "      <th>ListingCategory (numeric)</th>\n",
       "      <th>BorrowerState</th>\n",
       "      <th>Occupation</th>\n",
       "      <th>...</th>\n",
       "      <th>AvailableBankcardCredit</th>\n",
       "      <th>DebtToIncomeRatio</th>\n",
       "      <th>IncomeRange</th>\n",
       "      <th>IncomeVerifiable</th>\n",
       "      <th>StatedMonthlyIncome</th>\n",
       "      <th>LoanOriginalAmount</th>\n",
       "      <th>LoanOriginationDate</th>\n",
       "      <th>LoanOriginationQuarter</th>\n",
       "      <th>MonthlyLoanPayment</th>\n",
       "      <th>LP_ServiceFees</th>\n",
       "    </tr>\n",
       "  </thead>\n",
       "  <tbody>\n",
       "    <tr>\n",
       "      <th>0</th>\n",
       "      <td>C</td>\n",
       "      <td>36</td>\n",
       "      <td>Completed</td>\n",
       "      <td>2009-08-14 00:00:00</td>\n",
       "      <td>0.16516</td>\n",
       "      <td>0.1580</td>\n",
       "      <td>0.1380</td>\n",
       "      <td>0</td>\n",
       "      <td>CO</td>\n",
       "      <td>Other</td>\n",
       "      <td>...</td>\n",
       "      <td>1500.0</td>\n",
       "      <td>0.17</td>\n",
       "      <td>$25,000-49,999</td>\n",
       "      <td>True</td>\n",
       "      <td>3083.333333</td>\n",
       "      <td>9425</td>\n",
       "      <td>2007-09-12 00:00:00</td>\n",
       "      <td>Q3 2007</td>\n",
       "      <td>330.43</td>\n",
       "      <td>-133.18</td>\n",
       "    </tr>\n",
       "    <tr>\n",
       "      <th>1</th>\n",
       "      <td>NaN</td>\n",
       "      <td>36</td>\n",
       "      <td>Current</td>\n",
       "      <td>NaN</td>\n",
       "      <td>0.12016</td>\n",
       "      <td>0.0920</td>\n",
       "      <td>0.0820</td>\n",
       "      <td>2</td>\n",
       "      <td>CO</td>\n",
       "      <td>Professional</td>\n",
       "      <td>...</td>\n",
       "      <td>10266.0</td>\n",
       "      <td>0.18</td>\n",
       "      <td>$50,000-74,999</td>\n",
       "      <td>True</td>\n",
       "      <td>6125.000000</td>\n",
       "      <td>10000</td>\n",
       "      <td>2014-03-03 00:00:00</td>\n",
       "      <td>Q1 2014</td>\n",
       "      <td>318.93</td>\n",
       "      <td>0.00</td>\n",
       "    </tr>\n",
       "    <tr>\n",
       "      <th>2</th>\n",
       "      <td>HR</td>\n",
       "      <td>36</td>\n",
       "      <td>Completed</td>\n",
       "      <td>2009-12-17 00:00:00</td>\n",
       "      <td>0.28269</td>\n",
       "      <td>0.2750</td>\n",
       "      <td>0.2400</td>\n",
       "      <td>0</td>\n",
       "      <td>GA</td>\n",
       "      <td>Other</td>\n",
       "      <td>...</td>\n",
       "      <td>NaN</td>\n",
       "      <td>0.06</td>\n",
       "      <td>Not displayed</td>\n",
       "      <td>True</td>\n",
       "      <td>2083.333333</td>\n",
       "      <td>3001</td>\n",
       "      <td>2007-01-17 00:00:00</td>\n",
       "      <td>Q1 2007</td>\n",
       "      <td>123.32</td>\n",
       "      <td>-24.20</td>\n",
       "    </tr>\n",
       "    <tr>\n",
       "      <th>3</th>\n",
       "      <td>NaN</td>\n",
       "      <td>36</td>\n",
       "      <td>Current</td>\n",
       "      <td>NaN</td>\n",
       "      <td>0.12528</td>\n",
       "      <td>0.0974</td>\n",
       "      <td>0.0874</td>\n",
       "      <td>16</td>\n",
       "      <td>GA</td>\n",
       "      <td>Skilled Labor</td>\n",
       "      <td>...</td>\n",
       "      <td>30754.0</td>\n",
       "      <td>0.15</td>\n",
       "      <td>$25,000-49,999</td>\n",
       "      <td>True</td>\n",
       "      <td>2875.000000</td>\n",
       "      <td>10000</td>\n",
       "      <td>2012-11-01 00:00:00</td>\n",
       "      <td>Q4 2012</td>\n",
       "      <td>321.45</td>\n",
       "      <td>-108.01</td>\n",
       "    </tr>\n",
       "    <tr>\n",
       "      <th>4</th>\n",
       "      <td>NaN</td>\n",
       "      <td>36</td>\n",
       "      <td>Current</td>\n",
       "      <td>NaN</td>\n",
       "      <td>0.24614</td>\n",
       "      <td>0.2085</td>\n",
       "      <td>0.1985</td>\n",
       "      <td>2</td>\n",
       "      <td>MN</td>\n",
       "      <td>Executive</td>\n",
       "      <td>...</td>\n",
       "      <td>695.0</td>\n",
       "      <td>0.26</td>\n",
       "      <td>$100,000+</td>\n",
       "      <td>True</td>\n",
       "      <td>9583.333333</td>\n",
       "      <td>15000</td>\n",
       "      <td>2013-09-20 00:00:00</td>\n",
       "      <td>Q3 2013</td>\n",
       "      <td>563.97</td>\n",
       "      <td>-60.27</td>\n",
       "    </tr>\n",
       "  </tbody>\n",
       "</table>\n",
       "<p>5 rows × 30 columns</p>\n",
       "</div>"
      ],
      "text/plain": [
       "  CreditGrade  Term LoanStatus           ClosedDate  BorrowerAPR  \\\n",
       "0           C    36  Completed  2009-08-14 00:00:00      0.16516   \n",
       "1         NaN    36    Current                  NaN      0.12016   \n",
       "2          HR    36  Completed  2009-12-17 00:00:00      0.28269   \n",
       "3         NaN    36    Current                  NaN      0.12528   \n",
       "4         NaN    36    Current                  NaN      0.24614   \n",
       "\n",
       "   BorrowerRate  LenderYield  ListingCategory (numeric) BorrowerState  \\\n",
       "0        0.1580       0.1380                          0            CO   \n",
       "1        0.0920       0.0820                          2            CO   \n",
       "2        0.2750       0.2400                          0            GA   \n",
       "3        0.0974       0.0874                         16            GA   \n",
       "4        0.2085       0.1985                          2            MN   \n",
       "\n",
       "      Occupation  ... AvailableBankcardCredit  DebtToIncomeRatio  \\\n",
       "0          Other  ...                  1500.0               0.17   \n",
       "1   Professional  ...                 10266.0               0.18   \n",
       "2          Other  ...                     NaN               0.06   \n",
       "3  Skilled Labor  ...                 30754.0               0.15   \n",
       "4      Executive  ...                   695.0               0.26   \n",
       "\n",
       "      IncomeRange  IncomeVerifiable  StatedMonthlyIncome  LoanOriginalAmount  \\\n",
       "0  $25,000-49,999              True          3083.333333                9425   \n",
       "1  $50,000-74,999              True          6125.000000               10000   \n",
       "2   Not displayed              True          2083.333333                3001   \n",
       "3  $25,000-49,999              True          2875.000000               10000   \n",
       "4       $100,000+              True          9583.333333               15000   \n",
       "\n",
       "   LoanOriginationDate  LoanOriginationQuarter  MonthlyLoanPayment  \\\n",
       "0  2007-09-12 00:00:00                 Q3 2007              330.43   \n",
       "1  2014-03-03 00:00:00                 Q1 2014              318.93   \n",
       "2  2007-01-17 00:00:00                 Q1 2007              123.32   \n",
       "3  2012-11-01 00:00:00                 Q4 2012              321.45   \n",
       "4  2013-09-20 00:00:00                 Q3 2013              563.97   \n",
       "\n",
       "   LP_ServiceFees  \n",
       "0         -133.18  \n",
       "1            0.00  \n",
       "2          -24.20  \n",
       "3         -108.01  \n",
       "4          -60.27  \n",
       "\n",
       "[5 rows x 30 columns]"
      ]
     },
     "execution_count": 63,
     "metadata": {},
     "output_type": "execute_result"
    }
   ],
   "source": [
    "df_new.head()"
   ]
  },
  {
   "cell_type": "code",
   "execution_count": 64,
   "id": "d80878a0",
   "metadata": {},
   "outputs": [
    {
     "name": "stdout",
     "output_type": "stream",
     "text": [
      "<class 'pandas.core.frame.DataFrame'>\n",
      "RangeIndex: 113937 entries, 0 to 113936\n",
      "Data columns (total 30 columns):\n",
      " #   Column                     Non-Null Count   Dtype  \n",
      "---  ------                     --------------   -----  \n",
      " 0   CreditGrade                28953 non-null   object \n",
      " 1   Term                       113937 non-null  int64  \n",
      " 2   LoanStatus                 113937 non-null  object \n",
      " 3   ClosedDate                 55089 non-null   object \n",
      " 4   BorrowerAPR                113912 non-null  float64\n",
      " 5   BorrowerRate               113937 non-null  float64\n",
      " 6   LenderYield                113937 non-null  float64\n",
      " 7   ListingCategory (numeric)  113937 non-null  int64  \n",
      " 8   BorrowerState              108422 non-null  object \n",
      " 9   Occupation                 110349 non-null  object \n",
      " 10  EmploymentStatus           111682 non-null  object \n",
      " 11  EmploymentStatusDuration   106312 non-null  float64\n",
      " 12  IsBorrowerHomeowner        113937 non-null  bool   \n",
      " 13  CreditScoreRangeLower      113346 non-null  float64\n",
      " 14  CreditScoreRangeUpper      113346 non-null  float64\n",
      " 15  CurrentDelinquencies       113240 non-null  float64\n",
      " 16  AmountDelinquent           106315 non-null  float64\n",
      " 17  DelinquenciesLast7Years    112947 non-null  float64\n",
      " 18  RevolvingCreditBalance     106333 non-null  float64\n",
      " 19  BankcardUtilization        106333 non-null  float64\n",
      " 20  AvailableBankcardCredit    106393 non-null  float64\n",
      " 21  DebtToIncomeRatio          105383 non-null  float64\n",
      " 22  IncomeRange                113937 non-null  object \n",
      " 23  IncomeVerifiable           113937 non-null  bool   \n",
      " 24  StatedMonthlyIncome        113937 non-null  float64\n",
      " 25  LoanOriginalAmount         113937 non-null  int64  \n",
      " 26  LoanOriginationDate        113937 non-null  object \n",
      " 27  LoanOriginationQuarter     113937 non-null  object \n",
      " 28  MonthlyLoanPayment         113937 non-null  float64\n",
      " 29  LP_ServiceFees             113937 non-null  float64\n",
      "dtypes: bool(2), float64(16), int64(3), object(9)\n",
      "memory usage: 24.6+ MB\n"
     ]
    }
   ],
   "source": [
    "df_new.info()"
   ]
  },
  {
   "cell_type": "markdown",
   "id": "6431817b",
   "metadata": {},
   "source": [
    "### Issue 2\n",
    "\n",
    "#### Define\n",
    "<br>\n",
    "- Create a new feature `CreditScoreRange` from `CreditScoreRangeUpper` and `CreditScoreRangeLower`\n",
    "\n",
    "#### Code"
   ]
  },
  {
   "cell_type": "code",
   "execution_count": 65,
   "id": "ff421a53",
   "metadata": {},
   "outputs": [],
   "source": [
    "rangeVal = [f\"${i} - {j}\" for i,j in zip(df['CreditScoreRangeLower'], df['CreditScoreRangeUpper'])]\n",
    "df_new['CreditScoreRange'] = rangeVal"
   ]
  },
  {
   "cell_type": "markdown",
   "id": "0203d85c",
   "metadata": {},
   "source": [
    "#### Test"
   ]
  },
  {
   "cell_type": "code",
   "execution_count": 66,
   "id": "e90adb81",
   "metadata": {
    "scrolled": true
   },
   "outputs": [
    {
     "data": {
      "text/plain": [
       "array(['$640.0 - 659.0', '$680.0 - 699.0', '$480.0 - 499.0',\n",
       "       '$800.0 - 819.0', '$740.0 - 759.0', '$700.0 - 719.0',\n",
       "       '$820.0 - 839.0', '$760.0 - 779.0', '$660.0 - 679.0',\n",
       "       '$620.0 - 639.0', '$720.0 - 739.0', '$520.0 - 539.0',\n",
       "       '$780.0 - 799.0', '$600.0 - 619.0', '$580.0 - 599.0',\n",
       "       '$540.0 - 559.0', '$560.0 - 579.0', '$500.0 - 519.0',\n",
       "       '$840.0 - 859.0', '$860.0 - 879.0', '$nan - nan', '$460.0 - 479.0',\n",
       "       '$0.0 - 19.0', '$880.0 - 899.0', '$440.0 - 459.0',\n",
       "       '$420.0 - 439.0', '$360.0 - 379.0'], dtype=object)"
      ]
     },
     "execution_count": 66,
     "metadata": {},
     "output_type": "execute_result"
    }
   ],
   "source": [
    "df_new['CreditScoreRange'].unique()"
   ]
  },
  {
   "cell_type": "code",
   "execution_count": 67,
   "id": "06869d85",
   "metadata": {
    "scrolled": false
   },
   "outputs": [
    {
     "data": {
      "text/plain": [
       "<AxesSubplot:>"
      ]
     },
     "execution_count": 67,
     "metadata": {},
     "output_type": "execute_result"
    },
    {
     "data": {
      "image/png": "[encoded data removed]",
      "text/plain": [
       "<Figure size 1080x720 with 1 Axes>"
      ]
     },
     "metadata": {
      "needs_background": "light"
     },
     "output_type": "display_data"
    }
   ],
   "source": [
    "df_new['CreditGrade'].value_counts().plot.bar(figsize=(15,10))"
   ]
  },
  {
   "cell_type": "markdown",
   "id": "4ba07380",
   "metadata": {},
   "source": [
    "#### next we explore quality Issues"
   ]
  },
  {
   "cell_type": "code",
   "execution_count": 68,
   "id": "4d0a0399",
   "metadata": {
    "scrolled": false
   },
   "outputs": [
    {
     "name": "stdout",
     "output_type": "stream",
     "text": [
      "<class 'pandas.core.frame.DataFrame'>\n",
      "RangeIndex: 113937 entries, 0 to 113936\n",
      "Data columns (total 31 columns):\n",
      " #   Column                     Non-Null Count   Dtype  \n",
      "---  ------                     --------------   -----  \n",
      " 0   CreditGrade                28953 non-null   object \n",
      " 1   Term                       113937 non-null  int64  \n",
      " 2   LoanStatus                 113937 non-null  object \n",
      " 3   ClosedDate                 55089 non-null   object \n",
      " 4   BorrowerAPR                113912 non-null  float64\n",
      " 5   BorrowerRate               113937 non-null  float64\n",
      " 6   LenderYield                113937 non-null  float64\n",
      " 7   ListingCategory (numeric)  113937 non-null  int64  \n",
      " 8   BorrowerState              108422 non-null  object \n",
      " 9   Occupation                 110349 non-null  object \n",
      " 10  EmploymentStatus           111682 non-null  object \n",
      " 11  EmploymentStatusDuration   106312 non-null  float64\n",
      " 12  IsBorrowerHomeowner        113937 non-null  bool   \n",
      " 13  CreditScoreRangeLower      113346 non-null  float64\n",
      " 14  CreditScoreRangeUpper      113346 non-null  float64\n",
      " 15  CurrentDelinquencies       113240 non-null  float64\n",
      " 16  AmountDelinquent           106315 non-null  float64\n",
      " 17  DelinquenciesLast7Years    112947 non-null  float64\n",
      " 18  RevolvingCreditBalance     106333 non-null  float64\n",
      " 19  BankcardUtilization        106333 non-null  float64\n",
      " 20  AvailableBankcardCredit    106393 non-null  float64\n",
      " 21  DebtToIncomeRatio          105383 non-null  float64\n",
      " 22  IncomeRange                113937 non-null  object \n",
      " 23  IncomeVerifiable           113937 non-null  bool   \n",
      " 24  StatedMonthlyIncome        113937 non-null  float64\n",
      " 25  LoanOriginalAmount         113937 non-null  int64  \n",
      " 26  LoanOriginationDate        113937 non-null  object \n",
      " 27  LoanOriginationQuarter     113937 non-null  object \n",
      " 28  MonthlyLoanPayment         113937 non-null  float64\n",
      " 29  LP_ServiceFees             113937 non-null  float64\n",
      " 30  CreditScoreRange           113937 non-null  object \n",
      "dtypes: bool(2), float64(16), int64(3), object(10)\n",
      "memory usage: 25.4+ MB\n"
     ]
    }
   ],
   "source": [
    "df_new.info()"
   ]
  },
  {
   "cell_type": "code",
   "execution_count": 69,
   "id": "51eea806",
   "metadata": {
    "scrolled": true
   },
   "outputs": [
    {
     "data": {
      "text/plain": [
       "871"
      ]
     },
     "execution_count": 69,
     "metadata": {},
     "output_type": "execute_result"
    }
   ],
   "source": [
    "df_new.duplicated().sum()"
   ]
  },
  {
   "cell_type": "markdown",
   "id": "5fa76d02",
   "metadata": {},
   "source": [
    "- All 871 duplicate entries need to be dropped"
   ]
  },
  {
   "cell_type": "markdown",
   "id": "fdb8e324",
   "metadata": {},
   "source": [
    "### Quality Issues\n",
    "3. drop columns `CreditScoreRangeUpper`and `CreditScoreRangeLower`\n",
    "4. Change `CLosedDate`, `LoanOriginationDate` dtype to `datetime` and\n",
    "5. Drop Duplicate Entries"
   ]
  },
  {
   "cell_type": "markdown",
   "id": "7f2bd2c3",
   "metadata": {},
   "source": [
    "### Issue 3\n",
    "\n",
    "#### Define\n",
    "- Drop `CreditScoreRangeUpper`, `CreditScoreRangeLower`\n",
    "\n",
    "#### Code"
   ]
  },
  {
   "cell_type": "code",
   "execution_count": 70,
   "id": "c47b04df",
   "metadata": {},
   "outputs": [],
   "source": [
    "df_new.drop(['CreditScoreRangeUpper', 'CreditScoreRangeLower'], axis=1, inplace=True)"
   ]
  },
  {
   "cell_type": "markdown",
   "id": "6c9706c1",
   "metadata": {},
   "source": [
    "#### Test"
   ]
  },
  {
   "cell_type": "code",
   "execution_count": 71,
   "id": "a0912e22",
   "metadata": {},
   "outputs": [
    {
     "name": "stdout",
     "output_type": "stream",
     "text": [
      "<class 'pandas.core.frame.DataFrame'>\n",
      "RangeIndex: 113937 entries, 0 to 113936\n",
      "Data columns (total 29 columns):\n",
      " #   Column                     Non-Null Count   Dtype  \n",
      "---  ------                     --------------   -----  \n",
      " 0   CreditGrade                28953 non-null   object \n",
      " 1   Term                       113937 non-null  int64  \n",
      " 2   LoanStatus                 113937 non-null  object \n",
      " 3   ClosedDate                 55089 non-null   object \n",
      " 4   BorrowerAPR                113912 non-null  float64\n",
      " 5   BorrowerRate               113937 non-null  float64\n",
      " 6   LenderYield                113937 non-null  float64\n",
      " 7   ListingCategory (numeric)  113937 non-null  int64  \n",
      " 8   BorrowerState              108422 non-null  object \n",
      " 9   Occupation                 110349 non-null  object \n",
      " 10  EmploymentStatus           111682 non-null  object \n",
      " 11  EmploymentStatusDuration   106312 non-null  float64\n",
      " 12  IsBorrowerHomeowner        113937 non-null  bool   \n",
      " 13  CurrentDelinquencies       113240 non-null  float64\n",
      " 14  AmountDelinquent           106315 non-null  float64\n",
      " 15  DelinquenciesLast7Years    112947 non-null  float64\n",
      " 16  RevolvingCreditBalance     106333 non-null  float64\n",
      " 17  BankcardUtilization        106333 non-null  float64\n",
      " 18  AvailableBankcardCredit    106393 non-null  float64\n",
      " 19  DebtToIncomeRatio          105383 non-null  float64\n",
      " 20  IncomeRange                113937 non-null  object \n",
      " 21  IncomeVerifiable           113937 non-null  bool   \n",
      " 22  StatedMonthlyIncome        113937 non-null  float64\n",
      " 23  LoanOriginalAmount         113937 non-null  int64  \n",
      " 24  LoanOriginationDate        113937 non-null  object \n",
      " 25  LoanOriginationQuarter     113937 non-null  object \n",
      " 26  MonthlyLoanPayment         113937 non-null  float64\n",
      " 27  LP_ServiceFees             113937 non-null  float64\n",
      " 28  CreditScoreRange           113937 non-null  object \n",
      "dtypes: bool(2), float64(14), int64(3), object(10)\n",
      "memory usage: 23.7+ MB\n"
     ]
    }
   ],
   "source": [
    "df_new.info()"
   ]
  },
  {
   "cell_type": "markdown",
   "id": "a0577684",
   "metadata": {},
   "source": [
    "### Issue 4\n",
    "#### Define\n",
    "- Change `CLosedDate`, `LoanOriginationDate` dtype to datetime\n",
    "\n",
    "\n",
    "#### Code"
   ]
  },
  {
   "cell_type": "code",
   "execution_count": 72,
   "id": "7eff6727",
   "metadata": {
    "scrolled": false
   },
   "outputs": [],
   "source": [
    "df_new['ClosedDate'] = pd.to_datetime(df['ClosedDate'])\n",
    "df_new['LoanOriginationDate'] = pd.to_datetime(df['LoanOriginationDate'])"
   ]
  },
  {
   "cell_type": "markdown",
   "id": "8c91868d",
   "metadata": {},
   "source": [
    "#### Test"
   ]
  },
  {
   "cell_type": "code",
   "execution_count": 73,
   "id": "0b80b514",
   "metadata": {},
   "outputs": [
    {
     "data": {
      "text/plain": [
       "(0        2009-08-14\n",
       " 1               NaT\n",
       " 2        2009-12-17\n",
       " 3               NaT\n",
       " 4               NaT\n",
       "             ...    \n",
       " 113932          NaT\n",
       " 113933          NaT\n",
       " 113934          NaT\n",
       " 113935   2013-08-13\n",
       " 113936          NaT\n",
       " Name: ClosedDate, Length: 113937, dtype: datetime64[ns],\n",
       " 0        2007-09-12\n",
       " 1        2014-03-03\n",
       " 2        2007-01-17\n",
       " 3        2012-11-01\n",
       " 4        2013-09-20\n",
       "             ...    \n",
       " 113932   2013-04-22\n",
       " 113933   2011-11-07\n",
       " 113934   2013-12-23\n",
       " 113935   2011-11-21\n",
       " 113936   2014-01-21\n",
       " Name: LoanOriginationDate, Length: 113937, dtype: datetime64[ns])"
      ]
     },
     "execution_count": 73,
     "metadata": {},
     "output_type": "execute_result"
    }
   ],
   "source": [
    "df_new['ClosedDate'], df_new['LoanOriginationDate']"
   ]
  },
  {
   "cell_type": "markdown",
   "id": "9c9f012b",
   "metadata": {},
   "source": [
    "- DataTypes Changed"
   ]
  },
  {
   "cell_type": "markdown",
   "id": "070be84f",
   "metadata": {},
   "source": [
    "### Issue 5\n",
    "\n",
    "#### Define \n",
    "- Drop duplicate entries"
   ]
  },
  {
   "cell_type": "markdown",
   "id": "7c178646",
   "metadata": {},
   "source": [
    "#### Code"
   ]
  },
  {
   "cell_type": "code",
   "execution_count": 74,
   "id": "a88b5436",
   "metadata": {},
   "outputs": [],
   "source": [
    "df_new.drop_duplicates(inplace=True)"
   ]
  },
  {
   "cell_type": "markdown",
   "id": "18c2cec3",
   "metadata": {},
   "source": [
    "#### Test"
   ]
  },
  {
   "cell_type": "code",
   "execution_count": 75,
   "id": "24e32e09",
   "metadata": {},
   "outputs": [
    {
     "data": {
      "text/plain": [
       "0"
      ]
     },
     "execution_count": 75,
     "metadata": {},
     "output_type": "execute_result"
    }
   ],
   "source": [
    "df_new.duplicated().sum()"
   ]
  },
  {
   "cell_type": "code",
   "execution_count": 76,
   "id": "5c2329d1",
   "metadata": {},
   "outputs": [
    {
     "name": "stdout",
     "output_type": "stream",
     "text": [
      "<class 'pandas.core.frame.DataFrame'>\n",
      "Int64Index: 113066 entries, 0 to 113936\n",
      "Data columns (total 29 columns):\n",
      " #   Column                     Non-Null Count   Dtype         \n",
      "---  ------                     --------------   -----         \n",
      " 0   CreditGrade                28953 non-null   object        \n",
      " 1   Term                       113066 non-null  int64         \n",
      " 2   LoanStatus                 113066 non-null  object        \n",
      " 3   ClosedDate                 55076 non-null   datetime64[ns]\n",
      " 4   BorrowerAPR                113041 non-null  float64       \n",
      " 5   BorrowerRate               113066 non-null  float64       \n",
      " 6   LenderYield                113066 non-null  float64       \n",
      " 7   ListingCategory (numeric)  113066 non-null  int64         \n",
      " 8   BorrowerState              107551 non-null  object        \n",
      " 9   Occupation                 109537 non-null  object        \n",
      " 10  EmploymentStatus           110811 non-null  object        \n",
      " 11  EmploymentStatusDuration   105441 non-null  float64       \n",
      " 12  IsBorrowerHomeowner        113066 non-null  bool          \n",
      " 13  CurrentDelinquencies       112369 non-null  float64       \n",
      " 14  AmountDelinquent           105444 non-null  float64       \n",
      " 15  DelinquenciesLast7Years    112076 non-null  float64       \n",
      " 16  RevolvingCreditBalance     105462 non-null  float64       \n",
      " 17  BankcardUtilization        105462 non-null  float64       \n",
      " 18  AvailableBankcardCredit    105522 non-null  float64       \n",
      " 19  DebtToIncomeRatio          104594 non-null  float64       \n",
      " 20  IncomeRange                113066 non-null  object        \n",
      " 21  IncomeVerifiable           113066 non-null  bool          \n",
      " 22  StatedMonthlyIncome        113066 non-null  float64       \n",
      " 23  LoanOriginalAmount         113066 non-null  int64         \n",
      " 24  LoanOriginationDate        113066 non-null  datetime64[ns]\n",
      " 25  LoanOriginationQuarter     113066 non-null  object        \n",
      " 26  MonthlyLoanPayment         113066 non-null  float64       \n",
      " 27  LP_ServiceFees             113066 non-null  float64       \n",
      " 28  CreditScoreRange           113066 non-null  object        \n",
      "dtypes: bool(2), datetime64[ns](2), float64(14), int64(3), object(8)\n",
      "memory usage: 24.4+ MB\n"
     ]
    }
   ],
   "source": [
    "df_new.info()"
   ]
  },
  {
   "cell_type": "markdown",
   "id": "4bb38c26",
   "metadata": {},
   "source": [
    "<a id='explore'></a>\n",
    "## Univariate, Bivariate, and Multivariate Data Exploration"
   ]
  },
  {
   "cell_type": "markdown",
   "id": "356be94e",
   "metadata": {},
   "source": [
    "- Question\n",
    "- Visualisation\n",
    "- Observation"
   ]
  },
  {
   "cell_type": "markdown",
   "id": "d7c5b752",
   "metadata": {},
   "source": [
    "#### Questions of Interest form our features\n",
    "- What features affect the `BorrowerApr`.\n",
    "- What are some characteristics of Loan defaulters.\n",
    "- What features show the tendencies of a loan to be delinquent in the longrun.\n",
    "- What is the relationship between `Occupation`, `EmploymentDuration`, `LoanOriginationQuarter` and `LoanOriginationAmount`"
   ]
  },
  {
   "cell_type": "markdown",
   "id": "9076ca96",
   "metadata": {},
   "source": [
    "##### Categorical variables\n",
    "\n",
    "- CreditGrade -> ordinal\n",
    "- LoanStatus -> nominal\n",
    "- ClosedDate -> Ordinal\n",
    "- \n",
    "- \n",
    "- \n",
    "- \n",
    "\n",
    "<br>\n",
    "\n",
    "##### Quantitative variables\n",
    "- "
   ]
  },
  {
   "cell_type": "markdown",
   "id": "b53f2fcf",
   "metadata": {},
   "source": [
    "#### Univariate Exploration"
   ]
  },
  {
   "cell_type": "code",
   "execution_count": null,
   "id": "7211ea24",
   "metadata": {},
   "outputs": [],
   "source": []
  },
  {
   "cell_type": "code",
   "execution_count": 77,
   "id": "c4d18608",
   "metadata": {},
   "outputs": [
    {
     "data": {
      "text/plain": [
       "CreditGrade                  84113\n",
       "Term                             0\n",
       "LoanStatus                       0\n",
       "ClosedDate                   57990\n",
       "BorrowerAPR                     25\n",
       "BorrowerRate                     0\n",
       "LenderYield                      0\n",
       "ListingCategory (numeric)        0\n",
       "BorrowerState                 5515\n",
       "Occupation                    3529\n",
       "EmploymentStatus              2255\n",
       "EmploymentStatusDuration      7625\n",
       "IsBorrowerHomeowner              0\n",
       "CurrentDelinquencies           697\n",
       "AmountDelinquent              7622\n",
       "DelinquenciesLast7Years        990\n",
       "RevolvingCreditBalance        7604\n",
       "BankcardUtilization           7604\n",
       "AvailableBankcardCredit       7544\n",
       "DebtToIncomeRatio             8472\n",
       "IncomeRange                      0\n",
       "IncomeVerifiable                 0\n",
       "StatedMonthlyIncome              0\n",
       "LoanOriginalAmount               0\n",
       "LoanOriginationDate              0\n",
       "LoanOriginationQuarter           0\n",
       "MonthlyLoanPayment               0\n",
       "LP_ServiceFees                   0\n",
       "CreditScoreRange                 0\n",
       "dtype: int64"
      ]
     },
     "execution_count": 77,
     "metadata": {},
     "output_type": "execute_result"
    }
   ],
   "source": [
    "df_new.isnull().sum()"
   ]
  },
  {
   "cell_type": "code",
   "execution_count": null,
   "id": "0b8c316d",
   "metadata": {},
   "outputs": [],
   "source": []
  },
  {
   "cell_type": "markdown",
   "id": "84a43906",
   "metadata": {},
   "source": [
    "<a id='conclude'></a>\n",
    "## Conclusions"
   ]
  },
  {
   "cell_type": "code",
   "execution_count": null,
   "id": "917835b9",
   "metadata": {},
   "outputs": [],
   "source": []
  }
 ],
 "metadata": {
  "kernelspec": {
   "display_name": "Python 3 (ipykernel)",
   "language": "python",
   "name": "python3"
  },
  "language_info": {
   "codemirror_mode": {
    "name": "ipython",
    "version": 3
   },
   "file_extension": ".py",
   "mimetype": "text/x-python",
   "name": "python",
   "nbconvert_exporter": "python",
   "pygments_lexer": "ipython3",
   "version": "3.10.4"
  }
 },
 "nbformat": 4,
 "nbformat_minor": 5
}
